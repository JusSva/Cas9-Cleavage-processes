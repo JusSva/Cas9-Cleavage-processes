{
 "cells": [
  {
   "cell_type": "markdown",
   "id": "5fc57dd8-90b3-4f19-ae80-bf7b9068e34e",
   "metadata": {},
   "source": [
    "# Setup"
   ]
  },
  {
   "cell_type": "code",
   "execution_count": 2,
   "id": "8b96ca3d-afc5-402b-a6b2-495c94b2699e",
   "metadata": {},
   "outputs": [],
   "source": [
    "import matplotlib.pyplot as plt\n",
    "import seaborn as sns\n",
    "import pandas as pd\n",
    "import numpy as np"
   ]
  },
  {
   "cell_type": "markdown",
   "id": "005e6e0f-3730-4adc-89d6-272051159c78",
   "metadata": {},
   "source": [
    "# File import"
   ]
  },
  {
   "cell_type": "code",
   "execution_count": 3,
   "id": "c5d50667-5010-427b-8ad1-affbdf3311e1",
   "metadata": {},
   "outputs": [],
   "source": [
    "cleavage = pd.read_excel(\n",
    "    'Cleavage positions.xlsx', \n",
    "    sheet_name = 'Cas12a_crRNA3', \n",
    "    skiprows = 1, \n",
    "   # index_col = [0])\n",
    ").replace('None', np.nan)\n",
    "no_log = cleavage.drop('cleavage_rate_log', axis = 'columns').drop('cleavage_rate_log_unc', axis = 'columns').drop('descriptor', axis = 'columns')\n",
    "cleavage_rate = cleavage.loc[:, 'sequence':'cleavage_rate_log'].drop('descriptor', axis = 'columns')"
   ]
  },
  {
   "cell_type": "code",
   "execution_count": 5,
   "id": "194d83d5-d24b-4b2f-bbd2-5a9c332b432e",
   "metadata": {},
   "outputs": [
    {
     "data": {
      "text/html": [
       "<div>\n",
       "<style scoped>\n",
       "    .dataframe tbody tr th:only-of-type {\n",
       "        vertical-align: middle;\n",
       "    }\n",
       "\n",
       "    .dataframe tbody tr th {\n",
       "        vertical-align: top;\n",
       "    }\n",
       "\n",
       "    .dataframe thead th {\n",
       "        text-align: right;\n",
       "    }\n",
       "</style>\n",
       "<table border=\"1\" class=\"dataframe\">\n",
       "  <thead>\n",
       "    <tr style=\"text-align: right;\">\n",
       "      <th></th>\n",
       "      <th>sequence</th>\n",
       "      <th>L_12s</th>\n",
       "      <th>L_3m</th>\n",
       "      <th>L_10m</th>\n",
       "      <th>L_100m</th>\n",
       "      <th>L_300m</th>\n",
       "      <th>L_1000m</th>\n",
       "      <th>L_3000m</th>\n",
       "      <th>R_12s</th>\n",
       "      <th>R_3m</th>\n",
       "      <th>R_10m</th>\n",
       "      <th>R_100m</th>\n",
       "      <th>R_300m</th>\n",
       "      <th>R_1000m</th>\n",
       "      <th>R_3000m</th>\n",
       "    </tr>\n",
       "  </thead>\n",
       "  <tbody>\n",
       "    <tr>\n",
       "      <th>0</th>\n",
       "      <td>TGTTAGTGATAAGTGGAATGCCATGTAGG</td>\n",
       "      <td>NaN</td>\n",
       "      <td>23.76</td>\n",
       "      <td>23.7</td>\n",
       "      <td>23.60</td>\n",
       "      <td>23.34</td>\n",
       "      <td>23.09</td>\n",
       "      <td>NaN</td>\n",
       "      <td>NaN</td>\n",
       "      <td>19.29</td>\n",
       "      <td>19.31</td>\n",
       "      <td>19.49</td>\n",
       "      <td>19.48</td>\n",
       "      <td>19.41</td>\n",
       "      <td>NaN</td>\n",
       "    </tr>\n",
       "    <tr>\n",
       "      <th>1</th>\n",
       "      <td>TTTAGTGATATGTAGAATGCCATGTGG</td>\n",
       "      <td>NaN</td>\n",
       "      <td>NaN</td>\n",
       "      <td>NaN</td>\n",
       "      <td>23.77</td>\n",
       "      <td>23.71</td>\n",
       "      <td>23.56</td>\n",
       "      <td>NaN</td>\n",
       "      <td>NaN</td>\n",
       "      <td>NaN</td>\n",
       "      <td>NaN</td>\n",
       "      <td>19.28</td>\n",
       "      <td>19.23</td>\n",
       "      <td>19.19</td>\n",
       "      <td>NaN</td>\n",
       "    </tr>\n",
       "    <tr>\n",
       "      <th>2</th>\n",
       "      <td>TTGAGTGATAAGTGGAATGTCATGTGG</td>\n",
       "      <td>NaN</td>\n",
       "      <td>NaN</td>\n",
       "      <td>NaN</td>\n",
       "      <td>NaN</td>\n",
       "      <td>NaN</td>\n",
       "      <td>23.26</td>\n",
       "      <td>NaN</td>\n",
       "      <td>NaN</td>\n",
       "      <td>NaN</td>\n",
       "      <td>NaN</td>\n",
       "      <td>NaN</td>\n",
       "      <td>NaN</td>\n",
       "      <td>NaN</td>\n",
       "      <td>NaN</td>\n",
       "    </tr>\n",
       "    <tr>\n",
       "      <th>3</th>\n",
       "      <td>TTTAGTGATAAGCTGGTAATGCCATGTGG</td>\n",
       "      <td>NaN</td>\n",
       "      <td>NaN</td>\n",
       "      <td>NaN</td>\n",
       "      <td>NaN</td>\n",
       "      <td>NaN</td>\n",
       "      <td>NaN</td>\n",
       "      <td>NaN</td>\n",
       "      <td>NaN</td>\n",
       "      <td>NaN</td>\n",
       "      <td>NaN</td>\n",
       "      <td>NaN</td>\n",
       "      <td>NaN</td>\n",
       "      <td>NaN</td>\n",
       "      <td>NaN</td>\n",
       "    </tr>\n",
       "    <tr>\n",
       "      <th>4</th>\n",
       "      <td>TTTAGTGATACGTGGAGTGCCATGTGG</td>\n",
       "      <td>NaN</td>\n",
       "      <td>NaN</td>\n",
       "      <td>NaN</td>\n",
       "      <td>NaN</td>\n",
       "      <td>NaN</td>\n",
       "      <td>NaN</td>\n",
       "      <td>NaN</td>\n",
       "      <td>NaN</td>\n",
       "      <td>NaN</td>\n",
       "      <td>NaN</td>\n",
       "      <td>NaN</td>\n",
       "      <td>NaN</td>\n",
       "      <td>NaN</td>\n",
       "      <td>NaN</td>\n",
       "    </tr>\n",
       "    <tr>\n",
       "      <th>...</th>\n",
       "      <td>...</td>\n",
       "      <td>...</td>\n",
       "      <td>...</td>\n",
       "      <td>...</td>\n",
       "      <td>...</td>\n",
       "      <td>...</td>\n",
       "      <td>...</td>\n",
       "      <td>...</td>\n",
       "      <td>...</td>\n",
       "      <td>...</td>\n",
       "      <td>...</td>\n",
       "      <td>...</td>\n",
       "      <td>...</td>\n",
       "      <td>...</td>\n",
       "      <td>...</td>\n",
       "    </tr>\n",
       "    <tr>\n",
       "      <th>8582</th>\n",
       "      <td>ATTGTAGTGATAAGTGGAATGCCATGTGG</td>\n",
       "      <td>NaN</td>\n",
       "      <td>NaN</td>\n",
       "      <td>NaN</td>\n",
       "      <td>23.31</td>\n",
       "      <td>23.05</td>\n",
       "      <td>22.82</td>\n",
       "      <td>NaN</td>\n",
       "      <td>NaN</td>\n",
       "      <td>NaN</td>\n",
       "      <td>NaN</td>\n",
       "      <td>19.00</td>\n",
       "      <td>19.05</td>\n",
       "      <td>18.97</td>\n",
       "      <td>NaN</td>\n",
       "    </tr>\n",
       "    <tr>\n",
       "      <th>8583</th>\n",
       "      <td>TTTAGTGATAAGTGGCAATGCACATGTGG</td>\n",
       "      <td>NaN</td>\n",
       "      <td>NaN</td>\n",
       "      <td>NaN</td>\n",
       "      <td>NaN</td>\n",
       "      <td>NaN</td>\n",
       "      <td>NaN</td>\n",
       "      <td>NaN</td>\n",
       "      <td>NaN</td>\n",
       "      <td>NaN</td>\n",
       "      <td>NaN</td>\n",
       "      <td>NaN</td>\n",
       "      <td>NaN</td>\n",
       "      <td>NaN</td>\n",
       "      <td>NaN</td>\n",
       "    </tr>\n",
       "    <tr>\n",
       "      <th>8584</th>\n",
       "      <td>TTTAGTGATAAGTGGAGTGCCATGTCG</td>\n",
       "      <td>NaN</td>\n",
       "      <td>NaN</td>\n",
       "      <td>23.9</td>\n",
       "      <td>23.88</td>\n",
       "      <td>23.80</td>\n",
       "      <td>23.84</td>\n",
       "      <td>NaN</td>\n",
       "      <td>NaN</td>\n",
       "      <td>NaN</td>\n",
       "      <td>19.10</td>\n",
       "      <td>19.08</td>\n",
       "      <td>19.15</td>\n",
       "      <td>19.14</td>\n",
       "      <td>NaN</td>\n",
       "    </tr>\n",
       "    <tr>\n",
       "      <th>8585</th>\n",
       "      <td>TTTAGTGATAAAGTGGAATGCCGATGTGG</td>\n",
       "      <td>NaN</td>\n",
       "      <td>NaN</td>\n",
       "      <td>NaN</td>\n",
       "      <td>NaN</td>\n",
       "      <td>23.00</td>\n",
       "      <td>23.00</td>\n",
       "      <td>NaN</td>\n",
       "      <td>NaN</td>\n",
       "      <td>NaN</td>\n",
       "      <td>NaN</td>\n",
       "      <td>NaN</td>\n",
       "      <td>18.23</td>\n",
       "      <td>18.22</td>\n",
       "      <td>NaN</td>\n",
       "    </tr>\n",
       "    <tr>\n",
       "      <th>8586</th>\n",
       "      <td>TTTAGTGATAAGTGTGATATGCCATGTGG</td>\n",
       "      <td>NaN</td>\n",
       "      <td>NaN</td>\n",
       "      <td>NaN</td>\n",
       "      <td>NaN</td>\n",
       "      <td>NaN</td>\n",
       "      <td>NaN</td>\n",
       "      <td>NaN</td>\n",
       "      <td>NaN</td>\n",
       "      <td>NaN</td>\n",
       "      <td>NaN</td>\n",
       "      <td>NaN</td>\n",
       "      <td>NaN</td>\n",
       "      <td>NaN</td>\n",
       "      <td>NaN</td>\n",
       "    </tr>\n",
       "  </tbody>\n",
       "</table>\n",
       "<p>8587 rows × 15 columns</p>\n",
       "</div>"
      ],
      "text/plain": [
       "                           sequence  L_12s   L_3m  L_10m  L_100m  L_300m  \\\n",
       "0     TGTTAGTGATAAGTGGAATGCCATGTAGG    NaN  23.76   23.7   23.60   23.34   \n",
       "1       TTTAGTGATATGTAGAATGCCATGTGG    NaN    NaN    NaN   23.77   23.71   \n",
       "2       TTGAGTGATAAGTGGAATGTCATGTGG    NaN    NaN    NaN     NaN     NaN   \n",
       "3     TTTAGTGATAAGCTGGTAATGCCATGTGG    NaN    NaN    NaN     NaN     NaN   \n",
       "4       TTTAGTGATACGTGGAGTGCCATGTGG    NaN    NaN    NaN     NaN     NaN   \n",
       "...                             ...    ...    ...    ...     ...     ...   \n",
       "8582  ATTGTAGTGATAAGTGGAATGCCATGTGG    NaN    NaN    NaN   23.31   23.05   \n",
       "8583  TTTAGTGATAAGTGGCAATGCACATGTGG    NaN    NaN    NaN     NaN     NaN   \n",
       "8584    TTTAGTGATAAGTGGAGTGCCATGTCG    NaN    NaN   23.9   23.88   23.80   \n",
       "8585  TTTAGTGATAAAGTGGAATGCCGATGTGG    NaN    NaN    NaN     NaN   23.00   \n",
       "8586  TTTAGTGATAAGTGTGATATGCCATGTGG    NaN    NaN    NaN     NaN     NaN   \n",
       "\n",
       "      L_1000m  L_3000m  R_12s   R_3m  R_10m  R_100m  R_300m  R_1000m  R_3000m  \n",
       "0       23.09      NaN    NaN  19.29  19.31   19.49   19.48    19.41      NaN  \n",
       "1       23.56      NaN    NaN    NaN    NaN   19.28   19.23    19.19      NaN  \n",
       "2       23.26      NaN    NaN    NaN    NaN     NaN     NaN      NaN      NaN  \n",
       "3         NaN      NaN    NaN    NaN    NaN     NaN     NaN      NaN      NaN  \n",
       "4         NaN      NaN    NaN    NaN    NaN     NaN     NaN      NaN      NaN  \n",
       "...       ...      ...    ...    ...    ...     ...     ...      ...      ...  \n",
       "8582    22.82      NaN    NaN    NaN    NaN   19.00   19.05    18.97      NaN  \n",
       "8583      NaN      NaN    NaN    NaN    NaN     NaN     NaN      NaN      NaN  \n",
       "8584    23.84      NaN    NaN    NaN  19.10   19.08   19.15    19.14      NaN  \n",
       "8585    23.00      NaN    NaN    NaN    NaN     NaN   18.23    18.22      NaN  \n",
       "8586      NaN      NaN    NaN    NaN    NaN     NaN     NaN      NaN      NaN  \n",
       "\n",
       "[8587 rows x 15 columns]"
      ]
     },
     "execution_count": 5,
     "metadata": {},
     "output_type": "execute_result"
    }
   ],
   "source": [
    "no_log"
   ]
  },
  {
   "cell_type": "markdown",
   "id": "c8cd96ed-2e9a-4ebf-892f-e7c6e2882c0a",
   "metadata": {},
   "source": [
    "# Features of the main sequence"
   ]
  },
  {
   "cell_type": "code",
   "execution_count": 4,
   "id": "62d7b36c-95fd-4016-ac45-90060e12d083",
   "metadata": {},
   "outputs": [],
   "source": [
    "pam_cas12 = 'TTTA'\n",
    "pam_cas9 = 'TGG'\n",
    "sequence = 'GACGCATAAAGATGAGACGC'"
   ]
  },
  {
   "cell_type": "markdown",
   "id": "410a181b-dd34-41cd-a5e3-19d176b6b910",
   "metadata": {},
   "source": [
    "# Creating Filters"
   ]
  },
  {
   "cell_type": "code",
   "execution_count": 5,
   "id": "ad2ebb6b-a3ed-4487-a6b7-0ea3f56dc0d8",
   "metadata": {},
   "outputs": [],
   "source": [
    "def create_mismatches(sequence, pam_5_end='', pam_3_end=''):\n",
    "    # When given a sequence, will generate all possible single and double mismatches\n",
    "    # Can also add two PAMs on different ends\n",
    "    mis_list = []\n",
    "    \n",
    "    # Single mismatches\n",
    "    for i in range(len(sequence)):\n",
    "        for base in 'ACGT':\n",
    "            new_seq = pam_5_end + sequence[:i] + base + sequence[i+1:] + pam_3_end\n",
    "            #adds the base into a defined sequence, skipping the place where it gets added, that way simulating a mismatch\n",
    "            mis_list.append(new_seq)\n",
    "\n",
    "            # Double mismatches\n",
    "            for j in range(i+1, len(sequence)):\n",
    "                for base2 in 'ACGT':\n",
    "                    new_seq2 = pam_5_end + sequence[:i] + base + sequence[i+1:j] + base2 + sequence[j+1:] + pam_3_end\n",
    "                    mis_list.append(new_seq2)\n",
    "                    \n",
    "                    # Triple mismatches\n",
    "                    #for f in range(i+2, len(sequence)):\n",
    "                        #for base3 in 'ACGT':\n",
    "                            #new_seq3 = pam_5_end + sequence[:i] + base + sequence[i+1:j] + base2 + sequence[j+1:f] + base3 + sequence[f:] + pam_3_end\n",
    "                            #mis_list.append(new_seq3)\n",
    "    return mis_list\n",
    "   \n",
    "mismatch = create_mismatches(sequence, 'TTTA', 'TGG')"
   ]
  },
  {
   "cell_type": "code",
   "execution_count": 6,
   "id": "f1ec7755-f746-4840-ad8d-41df19db1a8e",
   "metadata": {},
   "outputs": [],
   "source": [
    "def create_del(sequence, pam_5_end = '', pam_3_end = ''):\n",
    "    # When given a sequence, will generate all possible single, double, and triple deletions\n",
    "    del_list = []\n",
    "    \n",
    "    # Single deletions\n",
    "    for i in range(len(sequence)):\n",
    "        new_seq = sequence[:i] + sequence[i+1:]\n",
    "        del_list.append(new_seq)\n",
    "\n",
    "        # Double deletions\n",
    "        for j in range(i+1, len(sequence)):\n",
    "            new_seq = sequence[:i] + sequence[i+1:j] + sequence[j+1:]\n",
    "            #skipps one base, that way making a deletion\n",
    "            del_list.append(new_seq)\n",
    "\n",
    "            # Triple deletions\n",
    "            #for k in range(j+1, len(sequence)):\n",
    "                #new_seq = sequence[:i] + sequence[i+1:j] + sequence[j+1:k] + sequence[k+1:]\n",
    "                #del_list.append(new_seq)\n",
    "\n",
    "    return del_list\n",
    "\n",
    "dels = create_del(sequence, 'TTTA', 'TGG')"
   ]
  },
  {
   "cell_type": "code",
   "execution_count": 7,
   "id": "7736a050-e5d8-4d64-96c9-ff936656bb8d",
   "metadata": {},
   "outputs": [],
   "source": [
    "def create_ins(sequence, pam_5_end = '', pam_3_end = ''):\n",
    "    # When given a sequence, will generate all possible single, double, and triple insertions\n",
    "    # Can also add two PAMs on different ends\n",
    "    ins_list = []\n",
    "    \n",
    "    #Single insertion\n",
    "    for i in range(len(sequence)+1):\n",
    "        for base1 in 'ACGT':\n",
    "            new_seq = pam_5_end + sequence[:i] + base1 + sequence[i:] + pam_3_end\n",
    "            #adds a base \n",
    "            ins_list.append(new_seq)\n",
    "            \n",
    "            #Double insertion\n",
    "            for j in range(i+1, len(sequence)+2):\n",
    "                for base2 in 'ACGT':\n",
    "                    new_seq2 = pam_5_end + sequence[:i] + base1 + sequence[i:j] + base2 + sequence[j:] + pam_3_end\n",
    "                    ins_list.append(new_seq2)\n",
    "                    \n",
    "                    #Triple insertion\n",
    "                    #for k in range(j+1, len(sequence)+3):\n",
    "                        #for base3 in 'ACGT':\n",
    "                            #new_seq3 = pam_5_end + sequence[:i] + base1 + sequence[i:j] + base2 + sequence[j:k] + base3 + sequence[k:] + pam_3_end\n",
    "                            #ins_list.append(new_seq3)\n",
    "    return ins_list\n",
    "\n",
    "ins = create_ins(sequence, 'TTTA', 'TGG')"
   ]
  },
  {
   "cell_type": "code",
   "execution_count": 8,
   "id": "8abd46dc-e7c2-4a27-8fb0-614cb161c71b",
   "metadata": {},
   "outputs": [],
   "source": [
    "def create_small_ins(sequence, pam_5_end = '', pam_3_end = ''):\n",
    "    #Will create insertions in a given sequence only at position 3 and 4 from the 3' end\n",
    "    ins_list = []\n",
    "    \n",
    "    #Single insertion\n",
    "    for i in range(-3, -1):\n",
    "        for base1 in 'ACGT':\n",
    "            new_seq = pam_5_end + sequence[:i] + base1 + sequence[i:] + pam_3_end\n",
    "            ins_list.append(new_seq)\n",
    "            \n",
    "            #Double insertion\n",
    "          #  for j in range(i+1, i+2):\n",
    "           #     for base2 in 'ACGT':\n",
    "            #        new_seq2 = pam_5_end + sequence[:i] + base1 + sequence[i:j] + base2 + sequence[j:] + pam_3_end\n",
    "             #       ins_list.append(new_seq2)\n",
    "                    \n",
    "                    #Triple insertion\n",
    "                    #for k in range(j+1, len(sequence)+3):\n",
    "                        #for base3 in 'ACGT':\n",
    "                            #new_seq3 = pam_5_end + sequence[:i] + base1 + sequence[i:j] + base2 + sequence[j:k] + base3 + sequence[k:] + pam_3_end\n",
    "                            #ins_list.append(new_seq3)\n",
    "    return ins_list\n",
    "\n",
    "small_ins = create_small_ins(sequence, 'TTTA', 'TGG')"
   ]
  },
  {
   "cell_type": "code",
   "execution_count": 9,
   "id": "fd75f99f-bcf1-402f-866a-efbb286613a1",
   "metadata": {},
   "outputs": [],
   "source": [
    "def double_base(sequence, pam_5_end = '', pam_3_end = ''):\n",
    "    double_seq = []\n",
    "    for x in range(0, len(sequence)):\n",
    "        new_seq = pam_5_end + sequence[:x+1]+sequence[x:] + pam_3_end\n",
    "        double_seq.append(new_seq)\n",
    "        \n",
    "    return double_seq\n",
    "\n",
    "double_base = double_base(sequence, 'TTTA', 'TGG')"
   ]
  },
  {
   "cell_type": "code",
   "execution_count": 10,
   "id": "87c11100-b21d-4433-a097-645c592d710b",
   "metadata": {},
   "outputs": [],
   "source": [
    "def triple_base(sequence, pam_5_end = '', pam_3_end = ''):\n",
    "    triple_seq = []\n",
    "    for x in range(0, len(sequence)):\n",
    "        new_seq = pam_5_end + sequence[:x+1] + sequence[x:x+1] + sequence[x:] + pam_3_end\n",
    "        triple_seq.append(new_seq)\n",
    "        \n",
    "    return triple_seq\n",
    "\n",
    "triple_bases = triple_base(sequence, 'TTTA', 'TGG')"
   ]
  },
  {
   "cell_type": "code",
   "execution_count": 11,
   "id": "1d173c2c-88a6-420c-a9a3-d274adf96193",
   "metadata": {},
   "outputs": [],
   "source": [
    "def rep2_tribase(sequence, pam_5_end = '', pam_3_end = ''):\n",
    "    triple_seq = []\n",
    "    for x in range(0, len(sequence)):\n",
    "        new_seq = pam_5_end + sequence[:x+2]+sequence[x:] + pam_3_end\n",
    "        triple_seq.append(new_seq)\n",
    "        \n",
    "    return triple_seq\n",
    "\n",
    "rep_base = rep2_tribase(sequence, 'TTTA', 'TGG')"
   ]
  },
  {
   "cell_type": "markdown",
   "id": "36bacc91-779e-48e8-872e-550da54550f7",
   "metadata": {},
   "source": [
    "# Filtering Data"
   ]
  },
  {
   "cell_type": "code",
   "execution_count": 25,
   "id": "1bab00e2-5ad7-419a-a4db-9a761a0e1ed7",
   "metadata": {},
   "outputs": [],
   "source": [
    "ins_df = pd.DataFrame(\n",
    "    columns=['sequence',\n",
    "             'L_12s', 'L_3m', 'L_10m', 'L_100m', 'L_300m', 'L_1000m', 'L_3000m',\n",
    "             'R_12s', 'R_3m', 'R_10m', 'R_100m', 'R_300m', 'R_1000m', 'R_3000m']\n",
    ")\n",
    "\n",
    "small_ins_df = pd.DataFrame(\n",
    "    columns=['sequence',\n",
    "             'L_12s', 'L_3m', 'L_10m', 'L_100m', 'L_300m', 'L_1000m', 'L_3000m',\n",
    "             'R_12s', 'R_3m', 'R_10m', 'R_100m', 'R_300m', 'R_1000m', 'R_3000m']\n",
    ")\n",
    "\n",
    "mis_df = pd.DataFrame(\n",
    "    columns=['sequence',\n",
    "             'L_12s', 'L_3m', 'L_10m', 'L_100m', 'L_300m', 'L_1000m', 'L_3000m',\n",
    "             'R_12s', 'R_3m', 'R_10m', 'R_100m', 'R_300m', 'R_1000m', 'R_3000m']\n",
    ")\n",
    "\n",
    "del_df = pd.DataFrame(\n",
    "    columns=['sequence',\n",
    "             'L_12s', 'L_3m', 'L_10m', 'L_100m', 'L_300m', 'L_1000m', 'L_3000m',\n",
    "             'R_12s', 'R_3m', 'R_10m', 'R_100m', 'R_300m', 'R_1000m', 'R_3000m']\n",
    ")\n",
    "\n",
    "doubles_df = pd.DataFrame(\n",
    "    columns = ['sequence', 'cleavage_rate_log']\n",
    ")\n",
    "\n",
    "triples_df = pd.DataFrame(\n",
    "    columns = ['sequence', 'cleavage_rate_log']\n",
    ")\n",
    "\n",
    "rep2_df = pd.DataFrame(\n",
    "    columns = ['sequence', 'cleavage_rate_log']\n",
    ")"
   ]
  },
  {
   "cell_type": "code",
   "execution_count": 26,
   "id": "c6e796d7-5e5f-4d3a-b693-a61de1c7869b",
   "metadata": {},
   "outputs": [],
   "source": [
    "#Fill the empty dataframes with data from created filters\n",
    "#If running this cell with triple mismatches and other features, be ready to wait for at least 5 minutes\n",
    "\n",
    "for seq in ins:\n",
    "    matching_rows = no_log[no_log['sequence'] == seq]\n",
    "    ins_df = pd.concat([ins_df, matching_rows])\n",
    "\n",
    "for seq in small_ins:\n",
    "    matching_rows = no_log[no_log['sequence'] == seq]\n",
    "    small_ins_df = pd.concat([small_ins_df, matching_rows])\n",
    "    \n",
    "for seq in dels:\n",
    "    matching_rows = no_log[no_log['sequence'] == seq]\n",
    "    del_df = pd.concat([del_df, matching_rows])\n",
    "    \n",
    "for seq in mismatch:\n",
    "    matching_rows = no_log[no_log['sequence'] == seq]\n",
    "    mis_df = pd.concat([mis_df, matching_rows])\n",
    "    \n",
    "for seq in double_base:\n",
    "    matching_rows = cleavage_rate[cleavage_rate['sequence'] == seq]\n",
    "    doubles_df = pd.concat([doubles_df, matching_rows])\n",
    "    \n",
    "for seq in triple_bases:\n",
    "    matching_rows = cleavage_rate[cleavage_rate['sequence'] == seq]\n",
    "    triples_df = pd.concat([triples_df, matching_rows])\n",
    "    \n",
    "for seq in rep_base:\n",
    "    matching_rows = cleavage_rate[cleavage_rate['sequence'] == seq]\n",
    "    rep2_df = pd.concat([rep2_df, matching_rows])"
   ]
  },
  {
   "cell_type": "markdown",
   "id": "0e6c9a4e-aec8-4e59-a4bd-a45c09713322",
   "metadata": {
    "tags": []
   },
   "source": [
    "# Visualization of Cut sites at one time point "
   ]
  },
  {
   "cell_type": "code",
   "execution_count": 14,
   "id": "7bd07270-4cb6-43f6-a18d-b8bf88e6a421",
   "metadata": {},
   "outputs": [],
   "source": [
    "def swarm_data(df, column):\n",
    "    \n",
    "    #Will put the values from the column into a seperate dataframe based on the position of the bases and what base it is\n",
    "    \n",
    "    new_df = pd.DataFrame()\n",
    "\n",
    "    data_df = df.dropna(subset=[column])\n",
    "\n",
    "    for x in range(-7, -5):\n",
    "        for base in 'ACGT':\n",
    "            mask = (data_df['sequence'].str[x] == base)\n",
    "            #will check each base in each of the defined positions \n",
    "            new_column_name = f'pos{abs(x)-3}_{base}'\n",
    "            #names the column\n",
    "            new_df[new_column_name] = data_df.loc[mask, column].reset_index(drop=True)\n",
    "            #drop the data into the labeled column\n",
    "    new_df = new_df.fillna(0)\n",
    "\n",
    "    return new_df"
   ]
  },
  {
   "cell_type": "code",
   "execution_count": 15,
   "id": "bb71d705-f51d-436e-9d75-5ce761528d4a",
   "metadata": {},
   "outputs": [],
   "source": [
    "def nona_count(df, column):\n",
    "    \n",
    "    #Counts how many non NaN values are in each column \n",
    "    \n",
    "    new_df = pd.DataFrame()\n",
    "\n",
    "    data_df = df.dropna(subset=[column])\n",
    "\n",
    "    for x in range(-7, -5):\n",
    "        for base in 'ACGT':\n",
    "            mask = (data_df['sequence'].str[x] == base)\n",
    "            new_column_name = f'pos{abs(x)-3}_{base}'\n",
    "            new_df[new_column_name] = data_df.loc[mask, column].reset_index(drop=True)\n",
    "        \n",
    "    nona_count = new_df.notna().sum()\n",
    "    return nona_count"
   ]
  },
  {
   "cell_type": "code",
   "execution_count": 16,
   "id": "81bb32ad-35fb-4213-b470-782f9fb65282",
   "metadata": {},
   "outputs": [],
   "source": [
    "def mean_df(df, column):\n",
    "    \n",
    "    #Will create a dataframe of average values for each column. This later is used in graph drawing\n",
    "    \n",
    "    mean_df = pd.DataFrame()\n",
    "\n",
    "    for x in range(-7, -5):  #For each position 3 and 4\n",
    "        for base in 'ACGT':  #Take a base\n",
    "            notna_df = df[df[column].notna()]   #Filter the data that this column contains no NaN values\n",
    "            average_cut = notna_df[notna_df['sequence'].str[x] == base][column].mean()   #find the sequences that contain that specific base in that specific position in that column\n",
    "            column_name = f'pos{abs(x)-3}_{base}'   #Name the column of the empty dataframe\n",
    "            mean_df.loc[0, column_name] = average_cut\n",
    "    \n",
    "    return mean_df"
   ]
  },
  {
   "cell_type": "code",
   "execution_count": 126,
   "id": "a3016cd2-399e-4036-af57-cac87e35b52e",
   "metadata": {},
   "outputs": [],
   "source": [
    "def mean_swarm(swarm, column, save = '', name = 'swarm with mean'):    \n",
    "    \n",
    "    #Will draw a strip plot of DNA cut sites, where a distribution of an average cut location based on the base in a certain position\n",
    "    #will be depicted\n",
    "    \n",
    "    fig = plt.figure(figsize=(10, 7))\n",
    "    sns.stripplot(data=swarm_data(swarm, column), orient=\"v\", palette=\"Set2\", size = 16, dodge=False, alpha = 0.3)\n",
    "    #plt.scatter(x = mean_df(swarm, column).columns, y = mean_df(swarm, column), marker = 'o', color = 'black', s = 10, zorder = 10)\n",
    "    plt.ylim(1.8, 4.2)\n",
    "    plt.axhline(2, color='grey', alpha = 0.5)\n",
    "    plt.axhline(2.5, color='grey', alpha = 0.5, linestyle=':')\n",
    "    plt.axhline(3, color='grey', alpha = 0.5)\n",
    "    plt.axhline(3.5, color='grey', alpha = 0.5, linestyle=':')\n",
    "    plt.axhline(4, color='grey', alpha = 0.5)\n",
    "    #plt.xlabel('Position and base')\n",
    "    plt.ylabel('Average cut site')\n",
    "    plt.title('Cut site position in sequences with a single insertion')\n",
    "\n",
    "    y_offset = 0.1\n",
    "    for pos, count in enumerate(nona_count(swarm, column)):\n",
    "        plt.text(pos - 0.2, 1.4 + y_offset, f'n = {count}')\n",
    "    \n",
    "    if save == 'yes':\n",
    "        plt.savefig(f\"PNG {name}.png\")\n",
    "        plt.savefig(f'SVG {name}.svg', format='svg', bbox_inches='tight')"
   ]
  },
  {
   "cell_type": "code",
   "execution_count": 18,
   "id": "3169e0dc-cf75-40f0-942f-288681d1b112",
   "metadata": {
    "tags": []
   },
   "outputs": [
    {
     "data": {
      "text/html": [
       "<div>\n",
       "<style scoped>\n",
       "    .dataframe tbody tr th:only-of-type {\n",
       "        vertical-align: middle;\n",
       "    }\n",
       "\n",
       "    .dataframe tbody tr th {\n",
       "        vertical-align: top;\n",
       "    }\n",
       "\n",
       "    .dataframe thead th {\n",
       "        text-align: right;\n",
       "    }\n",
       "</style>\n",
       "<table border=\"1\" class=\"dataframe\">\n",
       "  <thead>\n",
       "    <tr style=\"text-align: right;\">\n",
       "      <th></th>\n",
       "      <th>pos4_A</th>\n",
       "      <th>pos4_C</th>\n",
       "      <th>pos4_G</th>\n",
       "      <th>pos4_T</th>\n",
       "      <th>pos3_A</th>\n",
       "      <th>pos3_C</th>\n",
       "      <th>pos3_G</th>\n",
       "      <th>pos3_T</th>\n",
       "    </tr>\n",
       "  </thead>\n",
       "  <tbody>\n",
       "    <tr>\n",
       "      <th>0</th>\n",
       "      <td>3.09</td>\n",
       "      <td>4.0</td>\n",
       "      <td>0</td>\n",
       "      <td>4.0</td>\n",
       "      <td>4.0</td>\n",
       "      <td>3.09</td>\n",
       "      <td>3.52</td>\n",
       "      <td>4.0</td>\n",
       "    </tr>\n",
       "  </tbody>\n",
       "</table>\n",
       "</div>"
      ],
      "text/plain": [
       "   pos4_A  pos4_C  pos4_G  pos4_T  pos3_A  pos3_C  pos3_G  pos3_T\n",
       "0    3.09     4.0       0     4.0     4.0    3.09    3.52     4.0"
      ]
     },
     "execution_count": 18,
     "metadata": {},
     "output_type": "execute_result"
    }
   ],
   "source": [
    "swarm_data(small_ins_df, 'L_1000m')"
   ]
  },
  {
   "cell_type": "code",
   "execution_count": 127,
   "id": "ab947664-e49e-44e3-9e9a-3d583e24c612",
   "metadata": {},
   "outputs": [
    {
     "data": {
      "image/png": "[encoded data removed]",
      "text/plain": [
       "<Figure size 720x504 with 1 Axes>"
      ]
     },
     "metadata": {
      "needs_background": "light"
     },
     "output_type": "display_data"
    }
   ],
   "source": [
    "mean_swarm(small_ins_df, 'L_1000m')"
   ]
  },
  {
   "cell_type": "markdown",
   "id": "876822b5-88ba-47d3-838f-476dfe98dc63",
   "metadata": {
    "tags": []
   },
   "source": [
    "# Visualization of change in Cut site location based on time "
   ]
  },
  {
   "cell_type": "code",
   "execution_count": 20,
   "id": "c05d84de-6dc3-42c9-ab48-e9e2b9bc255c",
   "metadata": {},
   "outputs": [],
   "source": [
    "def cut_kinetics(\n",
    "    df, \n",
    "    column_start_name = 'sequence', \n",
    "    column_end_name = 'L_3000m', \n",
    "    ylim = [2.7, 4.2], \n",
    "    figsize = [10, 5]):\n",
    "\n",
    "    # Will draw the kinetics of a nuclease \n",
    "    \n",
    "    \n",
    "    titles = []\n",
    "    row_end = len(df)\n",
    "    for x in range(-7, -5):\n",
    "        for base in 'ACGT':\n",
    "            new_title = f'Insertion at position {abs(x)-3}{base}'\n",
    "            titles.append(new_title)\n",
    "\n",
    "    cut_df = df.loc[:, column_start_name:column_end_name]\n",
    "    trans_df = cut_df.transpose()\n",
    "\n",
    "    for x in range(0, len(cut_df)):\n",
    "        column = trans_df.columns[x]  # get the column name instead of its contents\n",
    "        data = trans_df[column].iloc[1:].dropna()  # drop NaN values in the column\n",
    "        plt.figure(figsize = figsize)\n",
    "        plt.plot(data)\n",
    "        plt.scatter(x = trans_df.iloc[1:, x].index, y = trans_df.iloc[1:, x])\n",
    "        plt.title(titles[x], size = 17)\n",
    "        plt.ylabel('Average cut site', size = 15)\n",
    "        plt.xlabel('Time point', size = 15)\n",
    "        plt.ylim(ylim)\n",
    "        plt.axhline(2, color='grey', alpha = 0.5)\n",
    "        plt.axhline(2.5, color='grey', alpha = 0.5, linestyle=':')\n",
    "        plt.axhline(3, color='grey', alpha = 0.5)\n",
    "        plt.axhline(3.5, color='grey', alpha = 0.5, linestyle=':')\n",
    "        plt.axhline(4, color='grey', alpha = 0.5)"
   ]
  },
  {
   "cell_type": "code",
   "execution_count": 21,
   "id": "4064f597-2e55-4aab-8e1e-d9d1ca6616be",
   "metadata": {},
   "outputs": [
    {
     "name": "stderr",
     "output_type": "stream",
     "text": [
      "C:\\Users\\justa\\AppData\\Local\\Temp\\ipykernel_7108\\1689142584.py:26: MatplotlibDeprecationWarning: Support for passing numbers through unit converters is deprecated since 3.5 and support will be removed two minor releases later; use Axis.convert_units instead.\n",
      "  plt.scatter(x = trans_df.iloc[1:, x].index, y = trans_df.iloc[1:, x])\n"
     ]
    },
    {
     "data": {
      "image/png": "[encoded data removed]",
      "text/plain": [
       "<Figure size 720x360 with 1 Axes>"
      ]
     },
     "metadata": {
      "needs_background": "light"
     },
     "output_type": "display_data"
    },
    {
     "data": {
      "image/png": "[encoded data removed]",
      "text/plain": [
       "<Figure size 720x360 with 1 Axes>"
      ]
     },
     "metadata": {
      "needs_background": "light"
     },
     "output_type": "display_data"
    },
    {
     "data": {
      "image/png": "[encoded data removed]",
      "text/plain": [
       "<Figure size 720x360 with 1 Axes>"
      ]
     },
     "metadata": {
      "needs_background": "light"
     },
     "output_type": "display_data"
    },
    {
     "data": {
      "image/png": "[encoded data removed]",
      "text/plain": [
       "<Figure size 720x360 with 1 Axes>"
      ]
     },
     "metadata": {
      "needs_background": "light"
     },
     "output_type": "display_data"
    },
    {
     "data": {
      "image/png": "[encoded data removed]",
      "text/plain": [
       "<Figure size 720x360 with 1 Axes>"
      ]
     },
     "metadata": {
      "needs_background": "light"
     },
     "output_type": "display_data"
    },
    {
     "data": {
      "image/png": "[encoded data removed]",
      "text/plain": [
       "<Figure size 720x360 with 1 Axes>"
      ]
     },
     "metadata": {
      "needs_background": "light"
     },
     "output_type": "display_data"
    },
    {
     "data": {
      "image/png": "[encoded data removed]",
      "text/plain": [
       "<Figure size 720x360 with 1 Axes>"
      ]
     },
     "metadata": {
      "needs_background": "light"
     },
     "output_type": "display_data"
    },
    {
     "data": {
      "image/png": "[encoded data removed]",
      "text/plain": [
       "<Figure size 720x360 with 1 Axes>"
      ]
     },
     "metadata": {
      "needs_background": "light"
     },
     "output_type": "display_data"
    }
   ],
   "source": [
    "cut_kinetics(small_ins_df)"
   ]
  },
  {
   "cell_type": "markdown",
   "id": "fcdd1e0c-8dd9-4c95-8a2c-80424fa515cc",
   "metadata": {},
   "source": [
    "# Visualization of cut rate changes based on where a duplicated sequence is placed"
   ]
  },
  {
   "cell_type": "code",
   "execution_count": 101,
   "id": "22b2af28-7030-45bb-9df0-0a2b49aa66ce",
   "metadata": {},
   "outputs": [
    {
     "data": {
      "text/html": [
       "<div>\n",
       "<style scoped>\n",
       "    .dataframe tbody tr th:only-of-type {\n",
       "        vertical-align: middle;\n",
       "    }\n",
       "\n",
       "    .dataframe tbody tr th {\n",
       "        vertical-align: top;\n",
       "    }\n",
       "\n",
       "    .dataframe thead th {\n",
       "        text-align: right;\n",
       "    }\n",
       "</style>\n",
       "<table border=\"1\" class=\"dataframe\">\n",
       "  <thead>\n",
       "    <tr style=\"text-align: right;\">\n",
       "      <th></th>\n",
       "      <th>sequence</th>\n",
       "      <th>descriptor</th>\n",
       "      <th>cleavage_rate_log</th>\n",
       "      <th>cleavage_rate_log_unc</th>\n",
       "      <th>L_12s</th>\n",
       "      <th>L_3m</th>\n",
       "      <th>L_10m</th>\n",
       "      <th>L_100m</th>\n",
       "      <th>L_300m</th>\n",
       "      <th>L_1000m</th>\n",
       "      <th>L_3000m</th>\n",
       "      <th>R_12s</th>\n",
       "      <th>R_3m</th>\n",
       "      <th>R_10m</th>\n",
       "      <th>R_100m</th>\n",
       "      <th>R_300m</th>\n",
       "      <th>R_1000m</th>\n",
       "      <th>R_3000m</th>\n",
       "    </tr>\n",
       "  </thead>\n",
       "  <tbody>\n",
       "    <tr>\n",
       "      <th>4819</th>\n",
       "      <td>TTTAGACGCATAAAGATGAGACGCTGG</td>\n",
       "      <td>pamTGG</td>\n",
       "      <td>-1.032424</td>\n",
       "      <td>0.075517</td>\n",
       "      <td>3.0</td>\n",
       "      <td>3.0</td>\n",
       "      <td>3.0</td>\n",
       "      <td>3.0</td>\n",
       "      <td>3.0</td>\n",
       "      <td>3.0</td>\n",
       "      <td>NaN</td>\n",
       "      <td>3.0</td>\n",
       "      <td>3.0</td>\n",
       "      <td>3.0</td>\n",
       "      <td>3.0</td>\n",
       "      <td>3.0</td>\n",
       "      <td>3.0</td>\n",
       "      <td>NaN</td>\n",
       "    </tr>\n",
       "  </tbody>\n",
       "</table>\n",
       "</div>"
      ],
      "text/plain": [
       "                         sequence descriptor  cleavage_rate_log  \\\n",
       "4819  TTTAGACGCATAAAGATGAGACGCTGG     pamTGG          -1.032424   \n",
       "\n",
       "      cleavage_rate_log_unc  L_12s  L_3m  L_10m  L_100m  L_300m  L_1000m  \\\n",
       "4819               0.075517    3.0   3.0    3.0     3.0     3.0      3.0   \n",
       "\n",
       "      L_3000m  R_12s  R_3m  R_10m  R_100m  R_300m  R_1000m  R_3000m  \n",
       "4819      NaN    3.0   3.0    3.0     3.0     3.0      3.0      NaN  "
      ]
     },
     "execution_count": 101,
     "metadata": {},
     "output_type": "execute_result"
    }
   ],
   "source": [
    "cleavage[cleavage['sequence'].str.contains(f'^TTTA{sequence}TGG$')]"
   ]
  },
  {
   "cell_type": "code",
   "execution_count": 123,
   "id": "4d935203-8ca1-455a-b4bc-4bb53cb3b6af",
   "metadata": {},
   "outputs": [
    {
     "data": {
      "image/png": "[encoded data removed]",
      "text/plain": [
       "<Figure size 720x360 with 1 Axes>"
      ]
     },
     "metadata": {
      "needs_background": "light"
     },
     "output_type": "display_data"
    }
   ],
   "source": [
    "def cut_rate(df, x_axis = 'sequence', y_axis = 'cleavage_rate_log'):\n",
    "    df = df.reset_index(drop=True)\n",
    "    plt.figure(figsize = [10, 5])\n",
    "    plt.scatter(x = df.loc[:, x_axis], y = df.loc[:, y_axis])\n",
    "    tick_labels = ['{}'.format(len(df)-2-x) for x in range(0, len(df))]\n",
    "    plt.xticks(range(0, len(df)), tick_labels)\n",
    "    plt.ylabel('log of cleavage rate')\n",
    "    plt.xlabel('position of the inserted duplicate base away from the PAM')\n",
    "    plt.title('cleavage rate dependancy on duplicated base insertions')\n",
    "    plt.xlim(-1, 18)\n",
    "    plt.ylim(-6, 0);\n",
    "    \n",
    "cut_rate(doubles_df)"
   ]
  },
  {
   "cell_type": "code",
   "execution_count": 100,
   "id": "b4ece3c3-8d73-4f91-876c-a52b1fe1408d",
   "metadata": {},
   "outputs": [
    {
     "data": {
      "text/html": [
       "<div>\n",
       "<style scoped>\n",
       "    .dataframe tbody tr th:only-of-type {\n",
       "        vertical-align: middle;\n",
       "    }\n",
       "\n",
       "    .dataframe tbody tr th {\n",
       "        vertical-align: top;\n",
       "    }\n",
       "\n",
       "    .dataframe thead th {\n",
       "        text-align: right;\n",
       "    }\n",
       "</style>\n",
       "<table border=\"1\" class=\"dataframe\">\n",
       "  <thead>\n",
       "    <tr style=\"text-align: right;\">\n",
       "      <th></th>\n",
       "      <th>df_sequence</th>\n",
       "      <th>df_cleavage_rate_log</th>\n",
       "      <th>df1_sequence</th>\n",
       "      <th>df1_cleavage_rate_log</th>\n",
       "    </tr>\n",
       "  </thead>\n",
       "  <tbody>\n",
       "    <tr>\n",
       "      <th>0</th>\n",
       "      <td>TTTAGGACGCATAAAGATGAGACGCTGG</td>\n",
       "      <td>-1.050486</td>\n",
       "      <td>TTTAGGGACGCATAAAGATGAGACGCTGG</td>\n",
       "      <td>-0.983604</td>\n",
       "    </tr>\n",
       "    <tr>\n",
       "      <th>1</th>\n",
       "      <td>TTTAGAACGCATAAAGATGAGACGCTGG</td>\n",
       "      <td>-0.783183</td>\n",
       "      <td>TTTAGAAACGCATAAAGATGAGACGCTGG</td>\n",
       "      <td>-0.651702</td>\n",
       "    </tr>\n",
       "    <tr>\n",
       "      <th>2</th>\n",
       "      <td>TTTAGACCGCATAAAGATGAGACGCTGG</td>\n",
       "      <td>-0.847354</td>\n",
       "      <td>TTTAGACCCGCATAAAGATGAGACGCTGG</td>\n",
       "      <td>-0.949995</td>\n",
       "    </tr>\n",
       "    <tr>\n",
       "      <th>3</th>\n",
       "      <td>TTTAGACGGCATAAAGATGAGACGCTGG</td>\n",
       "      <td>-0.970217</td>\n",
       "      <td>TTTAGACGGGCATAAAGATGAGACGCTGG</td>\n",
       "      <td>-1.391518</td>\n",
       "    </tr>\n",
       "    <tr>\n",
       "      <th>4</th>\n",
       "      <td>TTTAGACGCCATAAAGATGAGACGCTGG</td>\n",
       "      <td>-2.40417</td>\n",
       "      <td>TTTAGACGCCCATAAAGATGAGACGCTGG</td>\n",
       "      <td>-3.52043</td>\n",
       "    </tr>\n",
       "    <tr>\n",
       "      <th>5</th>\n",
       "      <td>TTTAGACGCAATAAAGATGAGACGCTGG</td>\n",
       "      <td>-2.567038</td>\n",
       "      <td>TTTAGACGCAAATAAAGATGAGACGCTGG</td>\n",
       "      <td>-3.960435</td>\n",
       "    </tr>\n",
       "    <tr>\n",
       "      <th>6</th>\n",
       "      <td>TTTAGACGCATTAAAGATGAGACGCTGG</td>\n",
       "      <td>-3.68927</td>\n",
       "      <td>TTTAGACGCATTTAAAGATGAGACGCTGG</td>\n",
       "      <td>-5.120128</td>\n",
       "    </tr>\n",
       "    <tr>\n",
       "      <th>7</th>\n",
       "      <td>TTTAGACGCATAAAAGATGAGACGCTGG</td>\n",
       "      <td>-1.64033</td>\n",
       "      <td>TTTAGACGCATAAAAAGATGAGACGCTGG</td>\n",
       "      <td>-4.949561</td>\n",
       "    </tr>\n",
       "    <tr>\n",
       "      <th>8</th>\n",
       "      <td>TTTAGACGCATAAAAGATGAGACGCTGG</td>\n",
       "      <td>-1.64033</td>\n",
       "      <td>TTTAGACGCATAAAAAGATGAGACGCTGG</td>\n",
       "      <td>-4.949561</td>\n",
       "    </tr>\n",
       "    <tr>\n",
       "      <th>9</th>\n",
       "      <td>TTTAGACGCATAAAAGATGAGACGCTGG</td>\n",
       "      <td>-1.64033</td>\n",
       "      <td>TTTAGACGCATAAAAAGATGAGACGCTGG</td>\n",
       "      <td>-4.949561</td>\n",
       "    </tr>\n",
       "    <tr>\n",
       "      <th>10</th>\n",
       "      <td>TTTAGACGCATAAAGGATGAGACGCTGG</td>\n",
       "      <td>-3.662997</td>\n",
       "      <td>TTTAGACGCATAAAGGGATGAGACGCTGG</td>\n",
       "      <td>-4.973061</td>\n",
       "    </tr>\n",
       "    <tr>\n",
       "      <th>11</th>\n",
       "      <td>TTTAGACGCATAAAGAATGAGACGCTGG</td>\n",
       "      <td>-4.078085</td>\n",
       "      <td>TTTAGACGCATAAAGAAATGAGACGCTGG</td>\n",
       "      <td>-4.944047</td>\n",
       "    </tr>\n",
       "    <tr>\n",
       "      <th>12</th>\n",
       "      <td>TTTAGACGCATAAAGATTGAGACGCTGG</td>\n",
       "      <td>-3.543061</td>\n",
       "      <td>TTTAGACGCATAAAGATTTGAGACGCTGG</td>\n",
       "      <td>-5.301187</td>\n",
       "    </tr>\n",
       "    <tr>\n",
       "      <th>13</th>\n",
       "      <td>TTTAGACGCATAAAGATGGAGACGCTGG</td>\n",
       "      <td>-3.087522</td>\n",
       "      <td>TTTAGACGCATAAAGATGGGAGACGCTGG</td>\n",
       "      <td>-5.032815</td>\n",
       "    </tr>\n",
       "    <tr>\n",
       "      <th>14</th>\n",
       "      <td>TTTAGACGCATAAAGATGAAGACGCTGG</td>\n",
       "      <td>-2.925021</td>\n",
       "      <td>TTTAGACGCATAAAGATGAAAGACGCTGG</td>\n",
       "      <td>-4.923282</td>\n",
       "    </tr>\n",
       "    <tr>\n",
       "      <th>15</th>\n",
       "      <td>TTTAGACGCATAAAGATGAGGACGCTGG</td>\n",
       "      <td>-2.928021</td>\n",
       "      <td>TTTAGACGCATAAAGATGAGGGACGCTGG</td>\n",
       "      <td>-5.027574</td>\n",
       "    </tr>\n",
       "    <tr>\n",
       "      <th>16</th>\n",
       "      <td>TTTAGACGCATAAAGATGAGAACGCTGG</td>\n",
       "      <td>-4.012576</td>\n",
       "      <td>TTTAGACGCATAAAGATGAGAAACGCTGG</td>\n",
       "      <td>-5.329564</td>\n",
       "    </tr>\n",
       "    <tr>\n",
       "      <th>17</th>\n",
       "      <td>TTTAGACGCATAAAGATGAGACCGCTGG</td>\n",
       "      <td>-3.706724</td>\n",
       "      <td>TTTAGACGCATAAAGATGAGACCCGCTGG</td>\n",
       "      <td>-5.311581</td>\n",
       "    </tr>\n",
       "    <tr>\n",
       "      <th>18</th>\n",
       "      <td>TTTAGACGCATAAAGATGAGACGGCTGG</td>\n",
       "      <td>-2.075225</td>\n",
       "      <td>TTTAGACGCATAAAGATGAGACGGGCTGG</td>\n",
       "      <td>-2.643944</td>\n",
       "    </tr>\n",
       "    <tr>\n",
       "      <th>19</th>\n",
       "      <td>TTTAGACGCATAAAGATGAGACGCCTGG</td>\n",
       "      <td>-3.479814</td>\n",
       "      <td>TTTAGACGCATAAAGATGAGACGCCCTGG</td>\n",
       "      <td>-5.330442</td>\n",
       "    </tr>\n",
       "  </tbody>\n",
       "</table>\n",
       "</div>"
      ],
      "text/plain": [
       "                     df_sequence df_cleavage_rate_log  \\\n",
       "0   TTTAGGACGCATAAAGATGAGACGCTGG            -1.050486   \n",
       "1   TTTAGAACGCATAAAGATGAGACGCTGG            -0.783183   \n",
       "2   TTTAGACCGCATAAAGATGAGACGCTGG            -0.847354   \n",
       "3   TTTAGACGGCATAAAGATGAGACGCTGG            -0.970217   \n",
       "4   TTTAGACGCCATAAAGATGAGACGCTGG             -2.40417   \n",
       "5   TTTAGACGCAATAAAGATGAGACGCTGG            -2.567038   \n",
       "6   TTTAGACGCATTAAAGATGAGACGCTGG             -3.68927   \n",
       "7   TTTAGACGCATAAAAGATGAGACGCTGG             -1.64033   \n",
       "8   TTTAGACGCATAAAAGATGAGACGCTGG             -1.64033   \n",
       "9   TTTAGACGCATAAAAGATGAGACGCTGG             -1.64033   \n",
       "10  TTTAGACGCATAAAGGATGAGACGCTGG            -3.662997   \n",
       "11  TTTAGACGCATAAAGAATGAGACGCTGG            -4.078085   \n",
       "12  TTTAGACGCATAAAGATTGAGACGCTGG            -3.543061   \n",
       "13  TTTAGACGCATAAAGATGGAGACGCTGG            -3.087522   \n",
       "14  TTTAGACGCATAAAGATGAAGACGCTGG            -2.925021   \n",
       "15  TTTAGACGCATAAAGATGAGGACGCTGG            -2.928021   \n",
       "16  TTTAGACGCATAAAGATGAGAACGCTGG            -4.012576   \n",
       "17  TTTAGACGCATAAAGATGAGACCGCTGG            -3.706724   \n",
       "18  TTTAGACGCATAAAGATGAGACGGCTGG            -2.075225   \n",
       "19  TTTAGACGCATAAAGATGAGACGCCTGG            -3.479814   \n",
       "\n",
       "                     df1_sequence df1_cleavage_rate_log  \n",
       "0   TTTAGGGACGCATAAAGATGAGACGCTGG             -0.983604  \n",
       "1   TTTAGAAACGCATAAAGATGAGACGCTGG             -0.651702  \n",
       "2   TTTAGACCCGCATAAAGATGAGACGCTGG             -0.949995  \n",
       "3   TTTAGACGGGCATAAAGATGAGACGCTGG             -1.391518  \n",
       "4   TTTAGACGCCCATAAAGATGAGACGCTGG              -3.52043  \n",
       "5   TTTAGACGCAAATAAAGATGAGACGCTGG             -3.960435  \n",
       "6   TTTAGACGCATTTAAAGATGAGACGCTGG             -5.120128  \n",
       "7   TTTAGACGCATAAAAAGATGAGACGCTGG             -4.949561  \n",
       "8   TTTAGACGCATAAAAAGATGAGACGCTGG             -4.949561  \n",
       "9   TTTAGACGCATAAAAAGATGAGACGCTGG             -4.949561  \n",
       "10  TTTAGACGCATAAAGGGATGAGACGCTGG             -4.973061  \n",
       "11  TTTAGACGCATAAAGAAATGAGACGCTGG             -4.944047  \n",
       "12  TTTAGACGCATAAAGATTTGAGACGCTGG             -5.301187  \n",
       "13  TTTAGACGCATAAAGATGGGAGACGCTGG             -5.032815  \n",
       "14  TTTAGACGCATAAAGATGAAAGACGCTGG             -4.923282  \n",
       "15  TTTAGACGCATAAAGATGAGGGACGCTGG             -5.027574  \n",
       "16  TTTAGACGCATAAAGATGAGAAACGCTGG             -5.329564  \n",
       "17  TTTAGACGCATAAAGATGAGACCCGCTGG             -5.311581  \n",
       "18  TTTAGACGCATAAAGATGAGACGGGCTGG             -2.643944  \n",
       "19  TTTAGACGCATAAAGATGAGACGCCCTGG             -5.330442  "
      ]
     },
     "execution_count": 100,
     "metadata": {},
     "output_type": "execute_result"
    },
    {
     "data": {
      "image/png": "[encoded data removed]",
      "text/plain": [
       "<Figure size 720x360 with 1 Axes>"
      ]
     },
     "metadata": {
      "needs_background": "light"
     },
     "output_type": "display_data"
    }
   ],
   "source": [
    "def cut_rate2(df, df1, legend1 = 'Single Copy', legend2 = 'Double Copy'):\n",
    "    \n",
    "    df = df.reset_index(drop=True)\n",
    "    df1 = df1.reset_index(drop=True)\n",
    "    j_df = df.add_prefix('df_')\n",
    "    j_df1 = df1.add_prefix('df1_')\n",
    "    joint_df = pd.concat([j_df, j_df1], axis = 1)\n",
    "    \n",
    "    x_data = df.index\n",
    "    plt.figure(figsize = [10, 5])\n",
    "    plt.scatter(x = x_data, y = joint_df.loc[:, 'df_cleavage_rate_log'])\n",
    "    plt.scatter(x = x_data, y = joint_df.loc[:, 'df1_cleavage_rate_log'])\n",
    "    plt.axhline(-1.032424, color='grey', alpha = 0.5, linestyle = ':')\n",
    "    tick_labels = ['{}'.format(len(df)-x) for x in range(0, len(df))]\n",
    "    plt.xticks(range(0, len(joint_df)), tick_labels)\n",
    "    plt.ylabel('log of cleavage rate')\n",
    "    plt.xlabel('Position of the copied base away from the PAM')\n",
    "    plt.title('Cleavage rate dependancy on duplicated base insertions')\n",
    "    #plt.text(x = 20, y = -6.9, s = '[PAM]')\n",
    "    plt.xlim(-1, len(joint_df)+1)\n",
    "    plt.ylim(-6.5, 0.5)\n",
    "    plt.legend([legend1, legend2], loc='best');\n",
    "    \n",
    "    return joint_df\n",
    "\n",
    "cut_rate2(doubles_df, triples_df)"
   ]
  },
  {
   "cell_type": "code",
   "execution_count": 88,
   "id": "1cd234fd-74bb-4eaa-ad94-5fe7a9ec1bdd",
   "metadata": {},
   "outputs": [
    {
     "data": {
      "image/png": "[encoded data removed]",
      "text/plain": [
       "<Figure size 720x360 with 1 Axes>"
      ]
     },
     "metadata": {
      "needs_background": "light"
     },
     "output_type": "display_data"
    }
   ],
   "source": [
    "cut_rate(triples_df)"
   ]
  },
  {
   "cell_type": "code",
   "execution_count": 89,
   "id": "8fd07af5-e546-40f6-9ada-2c457df0fc6b",
   "metadata": {},
   "outputs": [
    {
     "data": {
      "image/png": "[encoded data removed]",
      "text/plain": [
       "<Figure size 720x360 with 1 Axes>"
      ]
     },
     "metadata": {
      "needs_background": "light"
     },
     "output_type": "display_data"
    }
   ],
   "source": [
    "cut_rate(rep2_df)"
   ]
  },
  {
   "cell_type": "code",
   "execution_count": 32,
   "id": "f50630a6-4602-4c24-97b2-06a0b4674f8b",
   "metadata": {},
   "outputs": [
    {
     "data": {
      "text/html": [
       "<div>\n",
       "<style scoped>\n",
       "    .dataframe tbody tr th:only-of-type {\n",
       "        vertical-align: middle;\n",
       "    }\n",
       "\n",
       "    .dataframe tbody tr th {\n",
       "        vertical-align: top;\n",
       "    }\n",
       "\n",
       "    .dataframe thead th {\n",
       "        text-align: right;\n",
       "    }\n",
       "</style>\n",
       "<table border=\"1\" class=\"dataframe\">\n",
       "  <thead>\n",
       "    <tr style=\"text-align: right;\">\n",
       "      <th></th>\n",
       "      <th>sequence</th>\n",
       "      <th>cleavage_rate_log</th>\n",
       "    </tr>\n",
       "  </thead>\n",
       "  <tbody>\n",
       "    <tr>\n",
       "      <th>9551</th>\n",
       "      <td>TTTAGACGCATATAAAGATGAGACGCTGG</td>\n",
       "      <td>-3.379635</td>\n",
       "    </tr>\n",
       "    <tr>\n",
       "      <th>9551</th>\n",
       "      <td>TTTAGACGCATATAAAGATGAGACGCTGG</td>\n",
       "      <td>-3.379635</td>\n",
       "    </tr>\n",
       "    <tr>\n",
       "      <th>8730</th>\n",
       "      <td>TTTAGACGCATAAAAAGATGAGACGCTGG</td>\n",
       "      <td>-4.949561</td>\n",
       "    </tr>\n",
       "    <tr>\n",
       "      <th>8730</th>\n",
       "      <td>TTTAGACGCATAAAAAGATGAGACGCTGG</td>\n",
       "      <td>-4.949561</td>\n",
       "    </tr>\n",
       "    <tr>\n",
       "      <th>3807</th>\n",
       "      <td>TTTAGACGCATAAAGAGATGAGACGCTGG</td>\n",
       "      <td>-4.980214</td>\n",
       "    </tr>\n",
       "    <tr>\n",
       "      <th>3807</th>\n",
       "      <td>TTTAGACGCATAAAGAGATGAGACGCTGG</td>\n",
       "      <td>-4.980214</td>\n",
       "    </tr>\n",
       "    <tr>\n",
       "      <th>7365</th>\n",
       "      <td>TTTAGACGCATAAAGATGAGACGCGCTGG</td>\n",
       "      <td>-5.202509</td>\n",
       "    </tr>\n",
       "    <tr>\n",
       "      <th>7365</th>\n",
       "      <td>TTTAGACGCATAAAGATGAGACGCGCTGG</td>\n",
       "      <td>-5.202509</td>\n",
       "    </tr>\n",
       "    <tr>\n",
       "      <th>7341</th>\n",
       "      <td>TTTAGACGCATAAAGATGAGACGCCTGG</td>\n",
       "      <td>-3.479814</td>\n",
       "    </tr>\n",
       "  </tbody>\n",
       "</table>\n",
       "</div>"
      ],
      "text/plain": [
       "                           sequence cleavage_rate_log\n",
       "9551  TTTAGACGCATATAAAGATGAGACGCTGG         -3.379635\n",
       "9551  TTTAGACGCATATAAAGATGAGACGCTGG         -3.379635\n",
       "8730  TTTAGACGCATAAAAAGATGAGACGCTGG         -4.949561\n",
       "8730  TTTAGACGCATAAAAAGATGAGACGCTGG         -4.949561\n",
       "3807  TTTAGACGCATAAAGAGATGAGACGCTGG         -4.980214\n",
       "3807  TTTAGACGCATAAAGAGATGAGACGCTGG         -4.980214\n",
       "7365  TTTAGACGCATAAAGATGAGACGCGCTGG         -5.202509\n",
       "7365  TTTAGACGCATAAAGATGAGACGCGCTGG         -5.202509\n",
       "7341   TTTAGACGCATAAAGATGAGACGCCTGG         -3.479814"
      ]
     },
     "execution_count": 32,
     "metadata": {},
     "output_type": "execute_result"
    }
   ],
   "source": [
    "rep2_df"
   ]
  },
  {
   "cell_type": "code",
   "execution_count": null,
   "id": "fae5c195-5bcc-4f89-ba38-740ecc90a2db",
   "metadata": {},
   "outputs": [],
   "source": []
  }
 ],
 "metadata": {
  "kernelspec": {
   "display_name": "Python 3 (ipykernel)",
   "language": "python",
   "name": "python3"
  },
  "language_info": {
   "codemirror_mode": {
    "name": "ipython",
    "version": 3
   },
   "file_extension": ".py",
   "mimetype": "text/x-python",
   "name": "python",
   "nbconvert_exporter": "python",
   "pygments_lexer": "ipython3",
   "version": "3.9.12"
  }
 },
 "nbformat": 4,
 "nbformat_minor": 5
}
